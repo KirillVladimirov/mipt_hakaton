{
 "cells": [
  {
   "cell_type": "code",
   "execution_count": 1,
   "id": "fea513a8-dc2e-4c4a-bd95-d439e50376f8",
   "metadata": {},
   "outputs": [
    {
     "name": "stdout",
     "output_type": "stream",
     "text": [
      "Requirement already satisfied: bertopic in c:\\users\\kvladimirov\\pycharmprojects\\bot_exhibition_guide\\venv\\lib\\site-packages (0.16.4)\n",
      "Requirement already satisfied: hdbscan>=0.8.29 in c:\\users\\kvladimirov\\pycharmprojects\\bot_exhibition_guide\\venv\\lib\\site-packages (from bertopic) (0.8.40)\n",
      "Requirement already satisfied: numpy>=1.20.0 in c:\\users\\kvladimirov\\pycharmprojects\\bot_exhibition_guide\\venv\\lib\\site-packages (from bertopic) (2.0.2)\n",
      "Requirement already satisfied: pandas>=1.1.5 in c:\\users\\kvladimirov\\pycharmprojects\\bot_exhibition_guide\\venv\\lib\\site-packages (from bertopic) (2.2.3)\n",
      "Requirement already satisfied: plotly>=4.7.0 in c:\\users\\kvladimirov\\pycharmprojects\\bot_exhibition_guide\\venv\\lib\\site-packages (from bertopic) (5.24.1)\n",
      "Requirement already satisfied: scikit-learn>=0.22.2.post1 in c:\\users\\kvladimirov\\pycharmprojects\\bot_exhibition_guide\\venv\\lib\\site-packages (from bertopic) (1.6.0)\n",
      "Requirement already satisfied: sentence-transformers>=0.4.1 in c:\\users\\kvladimirov\\pycharmprojects\\bot_exhibition_guide\\venv\\lib\\site-packages (from bertopic) (3.3.1)\n",
      "Requirement already satisfied: tqdm>=4.41.1 in c:\\users\\kvladimirov\\pycharmprojects\\bot_exhibition_guide\\venv\\lib\\site-packages (from bertopic) (4.67.1)\n",
      "Requirement already satisfied: umap-learn>=0.5.0 in c:\\users\\kvladimirov\\pycharmprojects\\bot_exhibition_guide\\venv\\lib\\site-packages (from bertopic) (0.5.7)\n",
      "Requirement already satisfied: scipy>=1.0 in c:\\users\\kvladimirov\\pycharmprojects\\bot_exhibition_guide\\venv\\lib\\site-packages (from hdbscan>=0.8.29->bertopic) (1.14.1)\n",
      "Requirement already satisfied: joblib>=1.0 in c:\\users\\kvladimirov\\pycharmprojects\\bot_exhibition_guide\\venv\\lib\\site-packages (from hdbscan>=0.8.29->bertopic) (1.4.2)\n",
      "Requirement already satisfied: python-dateutil>=2.8.2 in c:\\users\\kvladimirov\\pycharmprojects\\bot_exhibition_guide\\venv\\lib\\site-packages (from pandas>=1.1.5->bertopic) (2.9.0.post0)\n",
      "Requirement already satisfied: pytz>=2020.1 in c:\\users\\kvladimirov\\pycharmprojects\\bot_exhibition_guide\\venv\\lib\\site-packages (from pandas>=1.1.5->bertopic) (2024.2)\n",
      "Requirement already satisfied: tzdata>=2022.7 in c:\\users\\kvladimirov\\pycharmprojects\\bot_exhibition_guide\\venv\\lib\\site-packages (from pandas>=1.1.5->bertopic) (2024.2)\n",
      "Requirement already satisfied: tenacity>=6.2.0 in c:\\users\\kvladimirov\\pycharmprojects\\bot_exhibition_guide\\venv\\lib\\site-packages (from plotly>=4.7.0->bertopic) (9.0.0)\n",
      "Requirement already satisfied: packaging in c:\\users\\kvladimirov\\pycharmprojects\\bot_exhibition_guide\\venv\\lib\\site-packages (from plotly>=4.7.0->bertopic) (24.2)\n",
      "Requirement already satisfied: threadpoolctl>=3.1.0 in c:\\users\\kvladimirov\\pycharmprojects\\bot_exhibition_guide\\venv\\lib\\site-packages (from scikit-learn>=0.22.2.post1->bertopic) (3.5.0)\n",
      "Requirement already satisfied: transformers<5.0.0,>=4.41.0 in c:\\users\\kvladimirov\\pycharmprojects\\bot_exhibition_guide\\venv\\lib\\site-packages (from sentence-transformers>=0.4.1->bertopic) (4.47.1)\n",
      "Requirement already satisfied: torch>=1.11.0 in c:\\users\\kvladimirov\\pycharmprojects\\bot_exhibition_guide\\venv\\lib\\site-packages (from sentence-transformers>=0.4.1->bertopic) (2.5.1)\n",
      "Requirement already satisfied: huggingface-hub>=0.20.0 in c:\\users\\kvladimirov\\pycharmprojects\\bot_exhibition_guide\\venv\\lib\\site-packages (from sentence-transformers>=0.4.1->bertopic) (0.27.0)\n",
      "Requirement already satisfied: Pillow in c:\\users\\kvladimirov\\pycharmprojects\\bot_exhibition_guide\\venv\\lib\\site-packages (from sentence-transformers>=0.4.1->bertopic) (11.0.0)\n",
      "Requirement already satisfied: colorama in c:\\users\\kvladimirov\\pycharmprojects\\bot_exhibition_guide\\venv\\lib\\site-packages (from tqdm>=4.41.1->bertopic) (0.4.6)\n",
      "Requirement already satisfied: numba>=0.51.2 in c:\\users\\kvladimirov\\pycharmprojects\\bot_exhibition_guide\\venv\\lib\\site-packages (from umap-learn>=0.5.0->bertopic) (0.60.0)\n",
      "Requirement already satisfied: pynndescent>=0.5 in c:\\users\\kvladimirov\\pycharmprojects\\bot_exhibition_guide\\venv\\lib\\site-packages (from umap-learn>=0.5.0->bertopic) (0.5.13)\n",
      "Requirement already satisfied: filelock in c:\\users\\kvladimirov\\pycharmprojects\\bot_exhibition_guide\\venv\\lib\\site-packages (from huggingface-hub>=0.20.0->sentence-transformers>=0.4.1->bertopic) (3.16.1)\n",
      "Requirement already satisfied: fsspec>=2023.5.0 in c:\\users\\kvladimirov\\pycharmprojects\\bot_exhibition_guide\\venv\\lib\\site-packages (from huggingface-hub>=0.20.0->sentence-transformers>=0.4.1->bertopic) (2024.9.0)\n",
      "Requirement already satisfied: pyyaml>=5.1 in c:\\users\\kvladimirov\\pycharmprojects\\bot_exhibition_guide\\venv\\lib\\site-packages (from huggingface-hub>=0.20.0->sentence-transformers>=0.4.1->bertopic) (6.0.2)\n",
      "Requirement already satisfied: requests in c:\\users\\kvladimirov\\pycharmprojects\\bot_exhibition_guide\\venv\\lib\\site-packages (from huggingface-hub>=0.20.0->sentence-transformers>=0.4.1->bertopic) (2.32.3)\n",
      "Requirement already satisfied: typing-extensions>=3.7.4.3 in c:\\users\\kvladimirov\\pycharmprojects\\bot_exhibition_guide\\venv\\lib\\site-packages (from huggingface-hub>=0.20.0->sentence-transformers>=0.4.1->bertopic) (4.12.2)\n",
      "Requirement already satisfied: llvmlite<0.44,>=0.43.0dev0 in c:\\users\\kvladimirov\\pycharmprojects\\bot_exhibition_guide\\venv\\lib\\site-packages (from numba>=0.51.2->umap-learn>=0.5.0->bertopic) (0.43.0)\n",
      "Requirement already satisfied: six>=1.5 in c:\\users\\kvladimirov\\pycharmprojects\\bot_exhibition_guide\\venv\\lib\\site-packages (from python-dateutil>=2.8.2->pandas>=1.1.5->bertopic) (1.17.0)\n",
      "Requirement already satisfied: networkx in c:\\users\\kvladimirov\\pycharmprojects\\bot_exhibition_guide\\venv\\lib\\site-packages (from torch>=1.11.0->sentence-transformers>=0.4.1->bertopic) (3.4.2)\n",
      "Requirement already satisfied: jinja2 in c:\\users\\kvladimirov\\pycharmprojects\\bot_exhibition_guide\\venv\\lib\\site-packages (from torch>=1.11.0->sentence-transformers>=0.4.1->bertopic) (3.1.4)\n",
      "Requirement already satisfied: setuptools in c:\\users\\kvladimirov\\pycharmprojects\\bot_exhibition_guide\\venv\\lib\\site-packages (from torch>=1.11.0->sentence-transformers>=0.4.1->bertopic) (75.6.0)\n",
      "Requirement already satisfied: sympy==1.13.1 in c:\\users\\kvladimirov\\pycharmprojects\\bot_exhibition_guide\\venv\\lib\\site-packages (from torch>=1.11.0->sentence-transformers>=0.4.1->bertopic) (1.13.1)\n",
      "Requirement already satisfied: mpmath<1.4,>=1.1.0 in c:\\users\\kvladimirov\\pycharmprojects\\bot_exhibition_guide\\venv\\lib\\site-packages (from sympy==1.13.1->torch>=1.11.0->sentence-transformers>=0.4.1->bertopic) (1.3.0)\n",
      "Requirement already satisfied: regex!=2019.12.17 in c:\\users\\kvladimirov\\pycharmprojects\\bot_exhibition_guide\\venv\\lib\\site-packages (from transformers<5.0.0,>=4.41.0->sentence-transformers>=0.4.1->bertopic) (2024.11.6)\n",
      "Requirement already satisfied: tokenizers<0.22,>=0.21 in c:\\users\\kvladimirov\\pycharmprojects\\bot_exhibition_guide\\venv\\lib\\site-packages (from transformers<5.0.0,>=4.41.0->sentence-transformers>=0.4.1->bertopic) (0.21.0)\n",
      "Requirement already satisfied: safetensors>=0.4.1 in c:\\users\\kvladimirov\\pycharmprojects\\bot_exhibition_guide\\venv\\lib\\site-packages (from transformers<5.0.0,>=4.41.0->sentence-transformers>=0.4.1->bertopic) (0.4.5)\n",
      "Requirement already satisfied: MarkupSafe>=2.0 in c:\\users\\kvladimirov\\pycharmprojects\\bot_exhibition_guide\\venv\\lib\\site-packages (from jinja2->torch>=1.11.0->sentence-transformers>=0.4.1->bertopic) (3.0.2)\n",
      "Requirement already satisfied: charset-normalizer<4,>=2 in c:\\users\\kvladimirov\\pycharmprojects\\bot_exhibition_guide\\venv\\lib\\site-packages (from requests->huggingface-hub>=0.20.0->sentence-transformers>=0.4.1->bertopic) (3.4.0)\n",
      "Requirement already satisfied: idna<4,>=2.5 in c:\\users\\kvladimirov\\pycharmprojects\\bot_exhibition_guide\\venv\\lib\\site-packages (from requests->huggingface-hub>=0.20.0->sentence-transformers>=0.4.1->bertopic) (3.10)\n",
      "Requirement already satisfied: urllib3<3,>=1.21.1 in c:\\users\\kvladimirov\\pycharmprojects\\bot_exhibition_guide\\venv\\lib\\site-packages (from requests->huggingface-hub>=0.20.0->sentence-transformers>=0.4.1->bertopic) (2.2.3)\n",
      "Requirement already satisfied: certifi>=2017.4.17 in c:\\users\\kvladimirov\\pycharmprojects\\bot_exhibition_guide\\venv\\lib\\site-packages (from requests->huggingface-hub>=0.20.0->sentence-transformers>=0.4.1->bertopic) (2024.12.14)\n",
      "Requirement already satisfied: sentence-transformers in c:\\users\\kvladimirov\\pycharmprojects\\bot_exhibition_guide\\venv\\lib\\site-packages (3.3.1)\n",
      "Requirement already satisfied: transformers<5.0.0,>=4.41.0 in c:\\users\\kvladimirov\\pycharmprojects\\bot_exhibition_guide\\venv\\lib\\site-packages (from sentence-transformers) (4.47.1)\n",
      "Requirement already satisfied: tqdm in c:\\users\\kvladimirov\\pycharmprojects\\bot_exhibition_guide\\venv\\lib\\site-packages (from sentence-transformers) (4.67.1)\n",
      "Requirement already satisfied: torch>=1.11.0 in c:\\users\\kvladimirov\\pycharmprojects\\bot_exhibition_guide\\venv\\lib\\site-packages (from sentence-transformers) (2.5.1)\n",
      "Requirement already satisfied: scikit-learn in c:\\users\\kvladimirov\\pycharmprojects\\bot_exhibition_guide\\venv\\lib\\site-packages (from sentence-transformers) (1.6.0)\n",
      "Requirement already satisfied: scipy in c:\\users\\kvladimirov\\pycharmprojects\\bot_exhibition_guide\\venv\\lib\\site-packages (from sentence-transformers) (1.14.1)\n",
      "Requirement already satisfied: huggingface-hub>=0.20.0 in c:\\users\\kvladimirov\\pycharmprojects\\bot_exhibition_guide\\venv\\lib\\site-packages (from sentence-transformers) (0.27.0)\n",
      "Requirement already satisfied: Pillow in c:\\users\\kvladimirov\\pycharmprojects\\bot_exhibition_guide\\venv\\lib\\site-packages (from sentence-transformers) (11.0.0)\n",
      "Requirement already satisfied: filelock in c:\\users\\kvladimirov\\pycharmprojects\\bot_exhibition_guide\\venv\\lib\\site-packages (from huggingface-hub>=0.20.0->sentence-transformers) (3.16.1)\n",
      "Requirement already satisfied: fsspec>=2023.5.0 in c:\\users\\kvladimirov\\pycharmprojects\\bot_exhibition_guide\\venv\\lib\\site-packages (from huggingface-hub>=0.20.0->sentence-transformers) (2024.9.0)\n",
      "Requirement already satisfied: packaging>=20.9 in c:\\users\\kvladimirov\\pycharmprojects\\bot_exhibition_guide\\venv\\lib\\site-packages (from huggingface-hub>=0.20.0->sentence-transformers) (24.2)\n",
      "Requirement already satisfied: pyyaml>=5.1 in c:\\users\\kvladimirov\\pycharmprojects\\bot_exhibition_guide\\venv\\lib\\site-packages (from huggingface-hub>=0.20.0->sentence-transformers) (6.0.2)\n",
      "Requirement already satisfied: requests in c:\\users\\kvladimirov\\pycharmprojects\\bot_exhibition_guide\\venv\\lib\\site-packages (from huggingface-hub>=0.20.0->sentence-transformers) (2.32.3)\n",
      "Requirement already satisfied: typing-extensions>=3.7.4.3 in c:\\users\\kvladimirov\\pycharmprojects\\bot_exhibition_guide\\venv\\lib\\site-packages (from huggingface-hub>=0.20.0->sentence-transformers) (4.12.2)\n",
      "Requirement already satisfied: networkx in c:\\users\\kvladimirov\\pycharmprojects\\bot_exhibition_guide\\venv\\lib\\site-packages (from torch>=1.11.0->sentence-transformers) (3.4.2)\n",
      "Requirement already satisfied: jinja2 in c:\\users\\kvladimirov\\pycharmprojects\\bot_exhibition_guide\\venv\\lib\\site-packages (from torch>=1.11.0->sentence-transformers) (3.1.4)\n",
      "Requirement already satisfied: setuptools in c:\\users\\kvladimirov\\pycharmprojects\\bot_exhibition_guide\\venv\\lib\\site-packages (from torch>=1.11.0->sentence-transformers) (75.6.0)\n",
      "Requirement already satisfied: sympy==1.13.1 in c:\\users\\kvladimirov\\pycharmprojects\\bot_exhibition_guide\\venv\\lib\\site-packages (from torch>=1.11.0->sentence-transformers) (1.13.1)\n",
      "Requirement already satisfied: mpmath<1.4,>=1.1.0 in c:\\users\\kvladimirov\\pycharmprojects\\bot_exhibition_guide\\venv\\lib\\site-packages (from sympy==1.13.1->torch>=1.11.0->sentence-transformers) (1.3.0)\n",
      "Requirement already satisfied: colorama in c:\\users\\kvladimirov\\pycharmprojects\\bot_exhibition_guide\\venv\\lib\\site-packages (from tqdm->sentence-transformers) (0.4.6)\n",
      "Requirement already satisfied: numpy>=1.17 in c:\\users\\kvladimirov\\pycharmprojects\\bot_exhibition_guide\\venv\\lib\\site-packages (from transformers<5.0.0,>=4.41.0->sentence-transformers) (2.0.2)\n",
      "Requirement already satisfied: regex!=2019.12.17 in c:\\users\\kvladimirov\\pycharmprojects\\bot_exhibition_guide\\venv\\lib\\site-packages (from transformers<5.0.0,>=4.41.0->sentence-transformers) (2024.11.6)\n",
      "Requirement already satisfied: tokenizers<0.22,>=0.21 in c:\\users\\kvladimirov\\pycharmprojects\\bot_exhibition_guide\\venv\\lib\\site-packages (from transformers<5.0.0,>=4.41.0->sentence-transformers) (0.21.0)\n",
      "Requirement already satisfied: safetensors>=0.4.1 in c:\\users\\kvladimirov\\pycharmprojects\\bot_exhibition_guide\\venv\\lib\\site-packages (from transformers<5.0.0,>=4.41.0->sentence-transformers) (0.4.5)\n",
      "Requirement already satisfied: joblib>=1.2.0 in c:\\users\\kvladimirov\\pycharmprojects\\bot_exhibition_guide\\venv\\lib\\site-packages (from scikit-learn->sentence-transformers) (1.4.2)\n",
      "Requirement already satisfied: threadpoolctl>=3.1.0 in c:\\users\\kvladimirov\\pycharmprojects\\bot_exhibition_guide\\venv\\lib\\site-packages (from scikit-learn->sentence-transformers) (3.5.0)\n",
      "Requirement already satisfied: MarkupSafe>=2.0 in c:\\users\\kvladimirov\\pycharmprojects\\bot_exhibition_guide\\venv\\lib\\site-packages (from jinja2->torch>=1.11.0->sentence-transformers) (3.0.2)\n",
      "Requirement already satisfied: charset-normalizer<4,>=2 in c:\\users\\kvladimirov\\pycharmprojects\\bot_exhibition_guide\\venv\\lib\\site-packages (from requests->huggingface-hub>=0.20.0->sentence-transformers) (3.4.0)\n",
      "Requirement already satisfied: idna<4,>=2.5 in c:\\users\\kvladimirov\\pycharmprojects\\bot_exhibition_guide\\venv\\lib\\site-packages (from requests->huggingface-hub>=0.20.0->sentence-transformers) (3.10)\n",
      "Requirement already satisfied: urllib3<3,>=1.21.1 in c:\\users\\kvladimirov\\pycharmprojects\\bot_exhibition_guide\\venv\\lib\\site-packages (from requests->huggingface-hub>=0.20.0->sentence-transformers) (2.2.3)\n",
      "Requirement already satisfied: certifi>=2017.4.17 in c:\\users\\kvladimirov\\pycharmprojects\\bot_exhibition_guide\\venv\\lib\\site-packages (from requests->huggingface-hub>=0.20.0->sentence-transformers) (2024.12.14)\n",
      "Requirement already satisfied: faiss-cpu in c:\\users\\kvladimirov\\pycharmprojects\\bot_exhibition_guide\\venv\\lib\\site-packages (1.9.0.post1)\n",
      "Requirement already satisfied: numpy<3.0,>=1.25.0 in c:\\users\\kvladimirov\\pycharmprojects\\bot_exhibition_guide\\venv\\lib\\site-packages (from faiss-cpu) (2.0.2)\n",
      "Requirement already satisfied: packaging in c:\\users\\kvladimirov\\pycharmprojects\\bot_exhibition_guide\\venv\\lib\\site-packages (from faiss-cpu) (24.2)\n",
      "Requirement already satisfied: umap-learn in c:\\users\\kvladimirov\\pycharmprojects\\bot_exhibition_guide\\venv\\lib\\site-packages (0.5.7)\n",
      "Requirement already satisfied: numpy>=1.17 in c:\\users\\kvladimirov\\pycharmprojects\\bot_exhibition_guide\\venv\\lib\\site-packages (from umap-learn) (2.0.2)\n",
      "Requirement already satisfied: scipy>=1.3.1 in c:\\users\\kvladimirov\\pycharmprojects\\bot_exhibition_guide\\venv\\lib\\site-packages (from umap-learn) (1.14.1)\n",
      "Requirement already satisfied: scikit-learn>=0.22 in c:\\users\\kvladimirov\\pycharmprojects\\bot_exhibition_guide\\venv\\lib\\site-packages (from umap-learn) (1.6.0)\n",
      "Requirement already satisfied: numba>=0.51.2 in c:\\users\\kvladimirov\\pycharmprojects\\bot_exhibition_guide\\venv\\lib\\site-packages (from umap-learn) (0.60.0)\n",
      "Requirement already satisfied: pynndescent>=0.5 in c:\\users\\kvladimirov\\pycharmprojects\\bot_exhibition_guide\\venv\\lib\\site-packages (from umap-learn) (0.5.13)\n",
      "Requirement already satisfied: tqdm in c:\\users\\kvladimirov\\pycharmprojects\\bot_exhibition_guide\\venv\\lib\\site-packages (from umap-learn) (4.67.1)\n",
      "Requirement already satisfied: llvmlite<0.44,>=0.43.0dev0 in c:\\users\\kvladimirov\\pycharmprojects\\bot_exhibition_guide\\venv\\lib\\site-packages (from numba>=0.51.2->umap-learn) (0.43.0)\n",
      "Requirement already satisfied: joblib>=0.11 in c:\\users\\kvladimirov\\pycharmprojects\\bot_exhibition_guide\\venv\\lib\\site-packages (from pynndescent>=0.5->umap-learn) (1.4.2)\n",
      "Requirement already satisfied: threadpoolctl>=3.1.0 in c:\\users\\kvladimirov\\pycharmprojects\\bot_exhibition_guide\\venv\\lib\\site-packages (from scikit-learn>=0.22->umap-learn) (3.5.0)\n",
      "Requirement already satisfied: colorama in c:\\users\\kvladimirov\\pycharmprojects\\bot_exhibition_guide\\venv\\lib\\site-packages (from tqdm->umap-learn) (0.4.6)\n"
     ]
    }
   ],
   "source": [
    "# **Шаг 1: Установка и импорт библиотек**\n",
    "!pip install bertopic\n",
    "!pip install sentence-transformers\n",
    "!pip install faiss-cpu\n",
    "!pip install umap-learn"
   ]
  },
  {
   "cell_type": "code",
   "execution_count": 30,
   "id": "13cf28d1-6160-45ef-a362-75ac8437e107",
   "metadata": {},
   "outputs": [],
   "source": [
    "# Импортируем библиотеки\n",
    "from bertopic import BERTopic\n",
    "import faiss\n",
    "import pickle\n",
    "import pandas as pd\n",
    "import numpy as np\n",
    "import matplotlib.pyplot as plt\n",
    "from sentence_transformers import SentenceTransformer\n",
    "import umap"
   ]
  },
  {
   "cell_type": "code",
   "execution_count": 28,
   "id": "0ddba2cc-fec8-414e-9842-fab1fc68bfe2",
   "metadata": {},
   "outputs": [],
   "source": [
    "# **Шаг 2: Загрузка модели и индекса**\n",
    "# Пути к сохраненным моделям\n",
    "bertopic_model_path = \"../models/bertopic_model/bertopic_model.pkl\"\n",
    "faiss_index_path = \"../models/faiss_index/faiss_index.pkl\"\n",
    "bert_path = \"../models/bert_model/fine_tuned_model\"\n",
    "embeddings_path = \"../data/processed/embeddings_and_indices.npz\"\n",
    "data_path = \"../data/processed/cleaned_dataset.csv\""
   ]
  },
  {
   "cell_type": "code",
   "execution_count": 5,
   "id": "ba93fd93-42c6-442c-a005-a3872e62c8a2",
   "metadata": {},
   "outputs": [
    {
     "name": "stdout",
     "output_type": "stream",
     "text": [
      "Модель BERTopic успешно загружена.\n"
     ]
    }
   ],
   "source": [
    "# Загрузка модели BERTopic\n",
    "topic_model = BERTopic.load(bertopic_model_path)\n",
    "print(\"Модель BERTopic успешно загружена.\")"
   ]
  },
  {
   "cell_type": "code",
   "execution_count": 6,
   "id": "e01951a3-b38b-4c9f-b3ee-547703e0a66e",
   "metadata": {},
   "outputs": [
    {
     "name": "stdout",
     "output_type": "stream",
     "text": [
      "FAISS индекс успешно загружен.\n"
     ]
    }
   ],
   "source": [
    "# Загрузка FAISS индекса\n",
    "with open(faiss_index_path, \"rb\") as f:\n",
    "    faiss_index = pickle.load(f)\n",
    "print(\"FAISS индекс успешно загружен.\")"
   ]
  },
  {
   "cell_type": "code",
   "execution_count": 9,
   "id": "d75e7678-40ca-4c20-a45d-9611d7548594",
   "metadata": {},
   "outputs": [
    {
     "name": "stderr",
     "output_type": "stream",
     "text": [
      "No sentence-transformers model found with name ../models/bert_model/fine_tuned_model. Creating a new one with mean pooling.\n",
      "Some weights of BertModel were not initialized from the model checkpoint at ../models/bert_model/fine_tuned_model and are newly initialized: ['bert.pooler.dense.bias', 'bert.pooler.dense.weight']\n",
      "You should probably TRAIN this model on a down-stream task to be able to use it for predictions and inference.\n"
     ]
    },
    {
     "name": "stdout",
     "output_type": "stream",
     "text": [
      "Модель эмбеддингов успешно загружена.\n"
     ]
    }
   ],
   "source": [
    "# Загрузка модели эмбеддингов\n",
    "embedding_model = SentenceTransformer(bert_path)\n",
    "print(\"Модель эмбеддингов успешно загружена.\")"
   ]
  },
  {
   "cell_type": "code",
   "execution_count": 25,
   "id": "61a2cf66-5674-41cc-ad38-618d82f598d4",
   "metadata": {},
   "outputs": [
    {
     "name": "stdout",
     "output_type": "stream",
     "text": [
      "Эмбеддинги коллекции документов успешно загружены.\n"
     ]
    }
   ],
   "source": [
    "embeddings = np.load(embeddings_path)[\"embeddings\"]\n",
    "print(\"Эмбеддинги коллекции документов успешно загружены.\")"
   ]
  },
  {
   "cell_type": "code",
   "execution_count": 32,
   "id": "dc4e72e2-d3dd-4a46-a1cf-9783317ffce5",
   "metadata": {},
   "outputs": [
    {
     "name": "stdout",
     "output_type": "stream",
     "text": [
      "Коллекция документов успешно загружена.\n"
     ]
    }
   ],
   "source": [
    "artefact_catalog_df = pd.read_csv(data_path)\n",
    "print(\"Коллекция документов успешно загружена.\")"
   ]
  },
  {
   "cell_type": "markdown",
   "id": "5e54e6b4-e446-4253-98cf-33f8145495df",
   "metadata": {},
   "source": [
    "# Пример текста"
   ]
  },
  {
   "cell_type": "code",
   "execution_count": 14,
   "id": "b09d02b9-98ae-4c12-9049-d2db33b4836b",
   "metadata": {},
   "outputs": [],
   "source": [
    "new_text = \"\"\"\n",
    "Российская академия художеств и Московский государственный академический художественный институт имени В.И. Сурикова при РАХ представляют выставочный проект, приуроченный к 30-летию мастерской Николая Андронова (1929-1998), Павла Никонова и Юрия Шишкова (1940-2020).\n",
    "Провокационное название выставки «Право на ошибку», демонстрирующей около 150 живописных полотен и графических листов, обнажает множество скрытых тем и идей, неизбежно приводящих к выводу не только о допустимости, но даже о необходимости совершения ошибочных действий в творчестве. Именно это способствует поиску и, что важнее, обретению истинности художественного решения, когда процесс, а не результат, становится самоцелью. В экспозиции будут представлены произведения классика отечественной живописи, народного художника РФ и академика Российской академии художеств Павла Фёдоровича Никонова, заслуженного художника РФ и академика РАХ Юрия Алексеевича Шишкова, а также работы более 20 учеников и выпускников мастерской, среди которых: Виталий Беспятый, Павел Боркунов, Евгения Буравлёва, Елена Бурыкина-Никонова, Ольга Гавришева, Елена Гостюшина, Дмитрий Грачёв, Ольга Гуревич, Айсулу Кадыржанова, Екатерина Клочкова, Евгения Косушкина, Дарья Котлярова, Никита Кулинич, Галина Логвиненко, Владимир Онищук, Павел Отдельнов, Егор Плотников, Ирина Привознова, Полина Рыбакова, Михаил Смирнов, Айгерим Сыздыкова, Роман Усачёв, Ирина Филатова, Елена Цицулина, Татьяна Чурсина, Руслан Ямбушев и Юлия Эрдни Араева.\n",
    "\"\"\""
   ]
  },
  {
   "cell_type": "markdown",
   "id": "9ba63800-90bc-40c1-a8f6-d1364300c1c8",
   "metadata": {},
   "source": [
    "# Кейс 1: Определение темы для нового текста"
   ]
  },
  {
   "cell_type": "code",
   "execution_count": 15,
   "id": "32525fd0-e5a5-4d37-b630-d4d62f2ae32b",
   "metadata": {},
   "outputs": [
    {
     "name": "stdout",
     "output_type": "stream",
     "text": [
      "Текст: \n",
      "Российская академия художеств и Московский государственный академический художественный институт имени В.И. Сурикова при РАХ представляют выставочный проект, приуроченный к 30-летию мастерской Николая Андронова (1929-1998), Павла Никонова и Юрия Шишкова (1940-2020).\n",
      "Провокационное название выставки «Право на ошибку», демонстрирующей около 150 живописных полотен и графических листов, обнажает множество скрытых тем и идей, неизбежно приводящих к выводу не только о допустимости, но даже о необходимости совершения ошибочных действий в творчестве. Именно это способствует поиску и, что важнее, обретению истинности художественного решения, когда процесс, а не результат, становится самоцелью. В экспозиции будут представлены произведения классика отечественной живописи, народного художника РФ и академика Российской академии художеств Павла Фёдоровича Никонова, заслуженного художника РФ и академика РАХ Юрия Алексеевича Шишкова, а также работы более 20 учеников и выпускников мастерской, среди которых: Виталий Беспятый, Павел Боркунов, Евгения Буравлёва, Елена Бурыкина-Никонова, Ольга Гавришева, Елена Гостюшина, Дмитрий Грачёв, Ольга Гуревич, Айсулу Кадыржанова, Екатерина Клочкова, Евгения Косушкина, Дарья Котлярова, Никита Кулинич, Галина Логвиненко, Владимир Онищук, Павел Отдельнов, Егор Плотников, Ирина Привознова, Полина Рыбакова, Михаил Смирнов, Айгерим Сыздыкова, Роман Усачёв, Ирина Филатова, Елена Цицулина, Татьяна Чурсина, Руслан Ямбушев и Юлия Эрдни Араева.\n",
      "\n",
      "Тема: [np.int64(40)], Вероятности: [[1.78559518e-07 2.04826600e-07 1.70056421e-07 1.92737072e-07\n",
      "  1.82973112e-07 1.68225915e-07 1.93679422e-07 1.70437664e-07\n",
      "  1.67233996e-07 1.86546661e-07 1.81294221e-07 1.40586778e-07\n",
      "  1.85856494e-07 1.78818320e-07 1.91636785e-07 1.95266233e-07\n",
      "  1.99657135e-07 1.51465004e-07 1.94176231e-07 1.98870200e-07\n",
      "  1.68503262e-07 1.95138808e-07 1.98702987e-07 1.84589160e-07\n",
      "  1.71616900e-07 1.90406985e-07 1.86590615e-07 1.82775192e-07\n",
      "  1.93955205e-07 1.90766687e-07 1.97910619e-07 1.73067678e-07\n",
      "  2.01692660e-07 1.88857234e-07 2.00814711e-07 1.93450123e-07\n",
      "  1.91676347e-07 1.93015212e-07 2.04275285e-07 1.94278748e-07\n",
      "  8.37142521e-01 1.94299694e-07 1.87954945e-07 2.02401862e-07\n",
      "  1.92081338e-07 1.68524934e-07 2.02241319e-07 1.98927414e-07\n",
      "  1.82169927e-07 1.73138167e-07 1.92330677e-07 1.72477824e-07\n",
      "  2.05354866e-07 1.79000071e-07 1.66544362e-07 1.94037088e-07\n",
      "  1.91076561e-07 1.98568425e-07 1.74238981e-07 2.00712034e-07\n",
      "  1.82170475e-07 1.91802930e-07 1.91247834e-07 1.82644798e-07\n",
      "  2.13184526e-07]]\n"
     ]
    }
   ],
   "source": [
    "def test_new_text(text, embedding_model, topic_model):\n",
    "    # Генерация эмбеддинга\n",
    "    query_embedding = embedding_model.encode([text])\n",
    "\n",
    "    # Определение темы\n",
    "    query_topic, query_probs = topic_model.transform([text], embeddings=query_embedding)\n",
    "    print(f\"Текст: {text}\")\n",
    "    print(f\"Тема: {query_topic}, Вероятности: {query_probs}\")\n",
    "\n",
    "test_new_text(new_text, embedding_model, topic_model)"
   ]
  },
  {
   "cell_type": "markdown",
   "id": "a0f5ea5a-f9b7-4bde-b1b4-454049854508",
   "metadata": {},
   "source": [
    "# Кейс 2: Поиск похожих текстов через FAISS"
   ]
  },
  {
   "cell_type": "code",
   "execution_count": 18,
   "id": "0868fd7b-7002-4189-8126-0f17bb50942e",
   "metadata": {},
   "outputs": [
    {
     "name": "stdout",
     "output_type": "stream",
     "text": [
      "Похожие тексты:\n",
      "Индекс: 4098, Схожесть: 0.017888158559799194\n",
      "Индекс: 8836, Схожесть: 0.017888158559799194\n",
      "Индекс: 16130, Схожесть: 0.017888158559799194\n",
      "Индекс: 22276, Схожесть: 0.017888158559799194\n",
      "Индекс: 32805, Схожесть: 0.017888158559799194\n"
     ]
    },
    {
     "data": {
      "text/plain": [
       "(array([ 4098,  8836, 16130, 22276, 32805]),\n",
       " array([0.01788816, 0.01788816, 0.01788816, 0.01788816, 0.01788816],\n",
       "       dtype=float32))"
      ]
     },
     "execution_count": 18,
     "metadata": {},
     "output_type": "execute_result"
    }
   ],
   "source": [
    "def search_similar_texts(query_embedding, faiss_index, k=5):\n",
    "    # Поиск через FAISS\n",
    "    D, I = faiss_index.search(query_embedding, k=k)\n",
    "    print(\"Похожие тексты:\")\n",
    "    for idx, score in zip(I[0], D[0]):\n",
    "        print(f\"Индекс: {idx}, Схожесть: {score}\")\n",
    "    return I[0], D[0]\n",
    "\n",
    "# Генерация эмбеддинга для текста\n",
    "query_embedding = embedding_model.encode([new_text])\n",
    "query_topic, query_probs = topic_model.transform([new_text], embeddings=query_embedding)\n",
    "search_similar_texts(query_probs, faiss_index)"
   ]
  },
  {
   "cell_type": "markdown",
   "id": "b973602b-f66f-4071-a13d-87708c7cf445",
   "metadata": {},
   "source": [
    "# Кейс 3: Формирование ответа для пользователя"
   ]
  },
  {
   "cell_type": "code",
   "execution_count": 19,
   "id": "c864e67c-1efd-4d90-9f86-9a77c2fd6557",
   "metadata": {},
   "outputs": [
    {
     "name": "stdout",
     "output_type": "stream",
     "text": [
      "Ответ пользователю:\n",
      "🎯 *Рекомендации на основе вашего запроса:*\n",
      "🔹 *Текст 1*\n",
      "Тема: 0\n",
      "Описание: Текст 1\n",
      "🔹 *Текст 2*\n",
      "Тема: 1\n",
      "Описание: Текст 2\n",
      "🔹 *Текст 3*\n",
      "Тема: 2\n",
      "Описание: Текст 3\n",
      "\n"
     ]
    }
   ],
   "source": [
    "def generate_response(texts, topics):\n",
    "    response = \"🎯 *Рекомендации на основе вашего запроса:*\\n\"\n",
    "    for i, (text, topic) in enumerate(zip(texts, topics)):\n",
    "        response += f\"🔹 *Текст {i+1}*\\nТема: {topic}\\nОписание: {text}\\n\"\n",
    "    print(\"Ответ пользователю:\")\n",
    "    print(response)\n",
    "    return response\n",
    "\n",
    "# Пример текстов и тем\n",
    "texts = [\"Текст 1\", \"Текст 2\", \"Текст 3\"]  # Замените на реальные тексты\n",
    "topics = [0, 1, 2]\n",
    "response = generate_response(texts, topics)"
   ]
  },
  {
   "cell_type": "markdown",
   "id": "8c2c0174-3419-471b-a391-2df67df10d09",
   "metadata": {},
   "source": [
    "# Визуализация"
   ]
  },
  {
   "cell_type": "code",
   "execution_count": 22,
   "id": "06361525-d73c-4f6b-93d9-b6c55528f8df",
   "metadata": {},
   "outputs": [
    {
     "data": {
      "image/png": "[encoded data removed]",
      "text/plain": [
       "<Figure size 640x480 with 1 Axes>"
      ]
     },
     "metadata": {},
     "output_type": "display_data"
    }
   ],
   "source": [
    "def plot_topic_distribution(topic_model):\n",
    "    topic_info = topic_model.get_topic_info()\n",
    "    plt.bar(topic_info[\"Topic\"], topic_info[\"Count\"])\n",
    "    plt.xlabel(\"Темы\")\n",
    "    plt.ylabel(\"Количество текстов\")\n",
    "    plt.title(\"Распределение тем\")\n",
    "    plt.show()\n",
    "\n",
    "plot_topic_distribution(topic_model)"
   ]
  },
  {
   "cell_type": "code",
   "execution_count": null,
   "id": "f6ed45ea-2f87-4dc4-af81-ddfe14772091",
   "metadata": {},
   "outputs": [],
   "source": []
  },
  {
   "cell_type": "code",
   "execution_count": null,
   "id": "2facbaf8-989f-4c30-909f-4a4bb68d1a6c",
   "metadata": {},
   "outputs": [],
   "source": []
  }
 ],
 "metadata": {
  "kernelspec": {
   "display_name": "Python 3 (ipykernel)",
   "language": "python",
   "name": "python3"
  },
  "language_info": {
   "codemirror_mode": {
    "name": "ipython",
    "version": 3
   },
   "file_extension": ".py",
   "mimetype": "text/x-python",
   "name": "python",
   "nbconvert_exporter": "python",
   "pygments_lexer": "ipython3",
   "version": "3.12.5"
  }
 },
 "nbformat": 4,
 "nbformat_minor": 5
}
